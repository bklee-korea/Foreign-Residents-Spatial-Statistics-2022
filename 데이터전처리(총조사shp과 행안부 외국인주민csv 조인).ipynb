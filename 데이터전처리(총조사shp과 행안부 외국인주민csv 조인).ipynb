{
 "cells": [
  {
   "cell_type": "code",
   "execution_count": 5,
   "id": "57b40fba-e62d-4fff-bcdb-3a27ddff5424",
   "metadata": {},
   "outputs": [
    {
     "name": "stdout",
     "output_type": "stream",
     "text": [
      "    ADM_CD ADM_NM SGG_CD SGG_NM TOTAL FOREIGN NATURALIZED FOR_CHILD\n",
      "1  1101053    사직동  11010    종로구   378     323          22        33\n",
      "2  1101054    삼청동  11010    종로구    83      70           6         7\n",
      "3  1101055    부암동  11010    종로구   445     403          17        25\n",
      "4  1101056    평창동  11010    종로구   409     313          21        75\n",
      "5  1101057    무악동  11010    종로구    86      51          16        19\n"
     ]
    }
   ],
   "source": [
    "import pandas as pd\n",
    "import geopandas as gpd\n",
    "\n",
    "# CSV 파일 읽기\n",
    "df = pd.read_csv('2022년 외국인인구.csv', encoding='utf-8')\n",
    "\n",
    "# 1) 시군구 코드와 이름 컬럼 만들기\n",
    "df['CD'] = df['CD'].astype(str)\n",
    "df['SGG_CD'] = df['CD'].str[:5]\n",
    "df['SGG_NM'] = df[df['CD'].str.len() == 5]['NM']\n",
    "df['SGG_NM'] = df.groupby('SGG_CD')['SGG_NM'].transform('first')\n",
    "\n",
    "# 2) 컬럼 이름 변경\n",
    "df = df.rename(columns={'CD': 'ADM_CD', 'NM': 'ADM_NM'})\n",
    "\n",
    "# 3) 피봇팅\n",
    "pivot_columns = {\n",
    "    '합계': 'TOTAL',\n",
    "    '한국국적을 가지지 않은 자': 'FOREIGN',\n",
    "    '한국국적을 취득한 자': 'NATURALIZED',\n",
    "    '외국인주민자녀(출생)': 'FOR_CHILD'\n",
    "}\n",
    "\n",
    "# VALUE 열의 '*' 값을 0으로 변경\n",
    "df['VALUE'] = df['VALUE'].replace('*', '0')\n",
    "df_pivot = df.pivot(index=['ADM_CD', 'ADM_NM', 'SGG_CD', 'SGG_NM'], \n",
    "                    columns='CMN', \n",
    "                    values='VALUE')[pivot_columns.keys()]\n",
    "df_pivot.columns = pivot_columns.values()\n",
    "df_pivot = df_pivot.reset_index()\n",
    "\n",
    "# 4) ADM_CD가 7자리인 값만 남기기(읍면동 데이터만 남기기)\n",
    "df_result = df_pivot[df_pivot['ADM_CD'].str.len() == 7].copy()\n",
    "\n",
    "# 5) 추가 작업\n",
    "# 5-1) ADM_NM이 보라동이면 SGG_NM에 '용인시 기흥구'를 추가\n",
    "df_result.loc[df_result['ADM_NM'] == '보라동', 'SGG_NM'] = '용인시 기흥구'\n",
    "\n",
    "# 5-2) SGG_NM에 세종시를 '세종특별자치시'로 변경\n",
    "df_result['SGG_NM'] = df_result['SGG_NM'].replace('세종시', '세종특별자치시')\n",
    "\n",
    "# 5-3) ADM_NM 일원2동을 '개포3동'으로 변경\n",
    "df_result['ADM_NM'] = df_result['ADM_NM'].replace('일원2동', '개포3동')\n",
    "\n",
    "# 5-4) ADM_NM 가야제1동을 '가야1동'으로 변경\n",
    "df_result['ADM_NM'] = df_result['ADM_NM'].replace('가야제1동', '가야1동')\n",
    "\n",
    "# 5-4) ADM_NM 당감제1동을 '당감1동'으로 변경\n",
    "df_result['ADM_NM'] = df_result['ADM_NM'].replace('당감제1동', '당감1동')\n",
    "\n",
    "# 결과 확인\n",
    "print(df_result.head())\n",
    "\n",
    "# CSV 파일로 저장\n",
    "df_result.to_csv('processed_foreign_population_2022.csv', index=False, encoding='utf-8-sig')"
   ]
  },
  {
   "cell_type": "code",
   "execution_count": 11,
   "id": "639133df-5abc-4c16-8388-7a8f87ee5a61",
   "metadata": {},
   "outputs": [
    {
     "name": "stdout",
     "output_type": "stream",
     "text": [
      "Some KEYs are not unique in CSV file, adding SGG_CD to duplicates\n",
      "Columns in the result dataframe:\n",
      "Index(['SGG_CD_shp', 'SGG_NM_shp', 'ADM_NM_shp', 'ADM_CD_shp', 'POPULATION',\n",
      "       'geometry', 'KEY', 'ADM_CD_csv', 'ADM_NM_csv', 'SGG_CD_csv',\n",
      "       'SGG_NM_csv', 'TOTAL', 'FOREIGN', 'NATURALIZED', 'FOR_CHILD', '_merge'],\n",
      "      dtype='object')\n"
     ]
    },
    {
     "name": "stderr",
     "output_type": "stream",
     "text": [
      "C:\\Users\\20180094\\AppData\\Local\\Temp\\ipykernel_9664\\2540633799.py:64: UserWarning: Column names longer than 10 characters will be truncated when saved to ESRI Shapefile.\n",
      "  gdf_result.to_file('20224Q읍면동경계_2022_총조사총인구_외국인인구.shp', encoding='euc-kr')\n"
     ]
    },
    {
     "name": "stdout",
     "output_type": "stream",
     "text": [
      "처리가 완료되었습니다. 결과는 '20224Q읍면동경계_2022_총조사총인구_외국인인구.csv'와 '20224Q읍면동경계_2022_총조사총인구_외국인인구.shp'에 저장되었습니다.\n",
      "SHP 파일 기준 매칭되지 않은 5 개와 CSV 파일 기준 매칭되지 않은 0 개의 결과가 'unmatched_results.txt'에 저장되었습니다.\n"
     ]
    }
   ],
   "source": [
    "# 이전에 저장한 CSV 파일 읽기\n",
    "df_csv = pd.read_csv('processed_foreign_population_2022.csv')\n",
    "\n",
    "# SHP 파일 읽기\n",
    "gdf_shp = gpd.read_file('20224Q읍면동경계_2022_총조사총인구.shp')\n",
    "\n",
    "# KEY 관련 컬럼을 문자열로 변환\n",
    "for df in [df_csv, gdf_shp]:\n",
    "    for col in ['SGG_CD', 'SGG_NM', 'ADM_NM']:\n",
    "        if col in df.columns:\n",
    "            df[col] = df[col].astype(str)\n",
    "\n",
    "# 키 값 생성\n",
    "df_csv['KEY'] = df_csv['SGG_NM'] + '_' + df_csv['ADM_NM']\n",
    "gdf_shp['KEY'] = gdf_shp['SGG_NM'] + '_' + gdf_shp['ADM_NM']\n",
    "\n",
    "# 키 값의 유니크 여부 확인 및 중복 키에 대해서만 SGG_CD 추가\n",
    "if len(df_csv['KEY'].unique()) == len(df_csv):\n",
    "    print(\"KEY is unique in CSV file\")\n",
    "else:\n",
    "    print(\"Some KEYs are not unique in CSV file, adding SGG_CD to duplicates\")\n",
    "    # 중복된 키 찾기\n",
    "    duplicated_keys = df_csv[df_csv['KEY'].duplicated(keep=False)]\n",
    "    \n",
    "    # 중복된 키에 대해서만 SGG_CD 추가\n",
    "    df_csv.loc[duplicated_keys.index, 'KEY'] = df_csv.loc[duplicated_keys.index, 'SGG_CD'] + '_' + df_csv.loc[duplicated_keys.index, 'KEY']\n",
    "    \n",
    "    # SHP 파일에도 동일한 처리\n",
    "    gdf_shp['KEY'] = gdf_shp.apply(lambda row: row['SGG_CD'] + '_' + row['KEY'] if row['KEY'] in duplicated_keys['KEY'].values else row['KEY'], axis=1)\n",
    "\n",
    "# 조인 수행\n",
    "gdf_result = gdf_shp.merge(df_csv, on='KEY', how='outer', indicator=True, suffixes=('_shp', '_csv'))\n",
    "\n",
    "# 결과 데이터프레임의 컬럼 확인\n",
    "print(\"Columns in the result dataframe:\")\n",
    "print(gdf_result.columns)\n",
    "\n",
    "# SHP 기준으로 매칭되지 않은 결과 찾기\n",
    "unmatched_shp = gdf_result[gdf_result['_merge'] == 'left_only']\n",
    "\n",
    "# CSV 기준으로 매칭되지 않은 결과 찾기\n",
    "unmatched_csv = gdf_result[gdf_result['_merge'] == 'right_only']\n",
    "\n",
    "# 매칭되지 않은 결과 텍스트 파일로 저장\n",
    "with open('unmatched_results.txt', 'w', encoding='utf-8') as f:\n",
    "    f.write(\"Unmatched from SHP file:\\n\")\n",
    "    unmatched_shp[['KEY', 'SGG_NM_shp', 'ADM_NM_shp']].to_csv(f, sep='\\t', index=False)\n",
    "    f.write(\"\\nUnmatched from CSV file:\\n\")\n",
    "    unmatched_csv[['KEY', 'SGG_NM_csv', 'ADM_NM_csv']].to_csv(f, sep='\\t', index=False)\n",
    "\n",
    "\n",
    "# 불필요한 컬럼 제거 및 컬럼명 정리\n",
    "columns_to_keep = ['geometry', 'SGG_CD_shp', 'SGG_NM_shp', 'ADM_NM_shp', 'ADM_CD_shp', 'POPULATION', 'TOTAL', 'FOREIGN', 'NATURALIZED', 'FOR_CHILD', 'ADM_CD_csv']\n",
    "columns_to_keep_CSV = ['SGG_CD_shp', 'SGG_NM_shp', 'ADM_NM_shp', 'ADM_CD_shp', 'POPULATION', 'TOTAL', 'FOREIGN', 'NATURALIZED', 'FOR_CHILD', 'ADM_CD_csv']\n",
    "\n",
    "gdf_result = gdf_result[columns_to_keep]\n",
    "gdf_result_csv = gdf_result[columns_to_keep_CSV]\n",
    "gdf_result.columns = ['geometry', 'SGG_CD', 'SGG_NM', 'ADM_NM', 'ADM_CD', 'POPULATION', 'TOT_FOREIGN', 'FOREIGN', 'NATURALIZED', 'FOR_CHILD', 'REF_ADM_CD']\n",
    "gdf_result_csv.columns = ['SGG_CD', 'SGG_NM', 'ADM_NM', 'ADM_CD', 'POPULATION', 'TOT_FOREIGN', 'FOREIGN', 'NATURALIZED', 'FOR_CHILD', 'REF_ADM_CD']\n",
    "\n",
    "\n",
    "# 결과를 CSV와 SHP 파일로 저장\n",
    "gdf_result_csv.to_csv('20224Q읍면동경계_2022_총조사총인구_외국인인구.csv', index=False, encoding='utf-8-sig')\n",
    "gdf_result.to_file('20224Q읍면동경계_2022_총조사총인구_외국인인구.shp', encoding='euc-kr')\n",
    "\n",
    "print(\"처리가 완료되었습니다. 결과는 '20224Q읍면동경계_2022_총조사총인구_외국인인구.csv'와 '20224Q읍면동경계_2022_총조사총인구_외국인인구.shp'에 저장되었습니다.\")\n",
    "print(f\"SHP 파일 기준 매칭되지 않은 {len(unmatched_shp)} 개와 CSV 파일 기준 매칭되지 않은 {len(unmatched_csv)} 개의 결과가 'unmatched_results.txt'에 저장되었습니다.\")"
   ]
  },
  {
   "cell_type": "code",
   "execution_count": null,
   "id": "adc36d90-ce83-4d4f-a567-d4da37cf1e30",
   "metadata": {},
   "outputs": [],
   "source": []
  }
 ],
 "metadata": {
  "kernelspec": {
   "display_name": "Python 3 (ipykernel)",
   "language": "python",
   "name": "python3"
  },
  "language_info": {
   "codemirror_mode": {
    "name": "ipython",
    "version": 3
   },
   "file_extension": ".py",
   "mimetype": "text/x-python",
   "name": "python",
   "nbconvert_exporter": "python",
   "pygments_lexer": "ipython3",
   "version": "3.12.3"
  }
 },
 "nbformat": 4,
 "nbformat_minor": 5
}
